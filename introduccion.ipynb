{
 "cells": [
  {
   "cell_type": "markdown",
   "metadata": {},
   "source": [
    "#introducción a python \n"
   ]
  },
  {
   "cell_type": "code",
   "execution_count": 1,
   "metadata": {},
   "outputs": [
    {
     "name": "stdout",
     "output_type": "stream",
     "text": [
      "Collecting pandasNote: you may need to restart the kernel to use updated packages.\n"
     ]
    },
    {
     "name": "stderr",
     "output_type": "stream",
     "text": [
      "  WARNING: The scripts f2py.exe and numpy-config.exe are installed in 'c:\\Users\\felip\\AppData\\Local\\Programs\\Python\\Python312\\Scripts' which is not on PATH.\n",
      "  Consider adding this directory to PATH or, if you prefer to suppress this warning, use --no-warn-script-location.\n"
     ]
    },
    {
     "name": "stdout",
     "output_type": "stream",
     "text": [
      "\n",
      "  Downloading pandas-2.2.2-cp312-cp312-win_amd64.whl.metadata (19 kB)\n",
      "Collecting numpy>=1.26.0 (from pandas)\n",
      "  Downloading numpy-2.0.1-cp312-cp312-win_amd64.whl.metadata (60 kB)\n",
      "Requirement already satisfied: python-dateutil>=2.8.2 in c:\\users\\felip\\appdata\\roaming\\python\\python312\\site-packages (from pandas) (2.9.0.post0)\n",
      "Collecting pytz>=2020.1 (from pandas)\n",
      "  Downloading pytz-2024.1-py2.py3-none-any.whl.metadata (22 kB)\n",
      "Collecting tzdata>=2022.7 (from pandas)\n",
      "  Downloading tzdata-2024.1-py2.py3-none-any.whl.metadata (1.4 kB)\n",
      "Requirement already satisfied: six>=1.5 in c:\\users\\felip\\appdata\\roaming\\python\\python312\\site-packages (from python-dateutil>=2.8.2->pandas) (1.16.0)\n",
      "Downloading pandas-2.2.2-cp312-cp312-win_amd64.whl (11.5 MB)\n",
      "   ---------------------------------------- 0.0/11.5 MB ? eta -:--:--\n",
      "   -- ------------------------------------- 0.8/11.5 MB 4.8 MB/s eta 0:00:03\n",
      "   ---- ----------------------------------- 1.3/11.5 MB 3.5 MB/s eta 0:00:03\n",
      "   -------- ------------------------------- 2.4/11.5 MB 4.1 MB/s eta 0:00:03\n",
      "   ----------- ---------------------------- 3.4/11.5 MB 4.3 MB/s eta 0:00:02\n",
      "   --------------- ------------------------ 4.5/11.5 MB 4.5 MB/s eta 0:00:02\n",
      "   ------------------ --------------------- 5.2/11.5 MB 4.6 MB/s eta 0:00:02\n",
      "   ---------------------- ----------------- 6.6/11.5 MB 4.7 MB/s eta 0:00:02\n",
      "   -------------------------- ------------- 7.6/11.5 MB 4.7 MB/s eta 0:00:01\n",
      "   ------------------------------- -------- 9.2/11.5 MB 5.0 MB/s eta 0:00:01\n",
      "   ----------------------------------- ---- 10.2/11.5 MB 5.1 MB/s eta 0:00:01\n",
      "   ---------------------------------------  11.3/11.5 MB 5.0 MB/s eta 0:00:01\n",
      "   ---------------------------------------- 11.5/11.5 MB 5.0 MB/s eta 0:00:00\n",
      "Downloading numpy-2.0.1-cp312-cp312-win_amd64.whl (16.3 MB)\n",
      "   ---------------------------------------- 0.0/16.3 MB ? eta -:--:--\n",
      "   --- ------------------------------------ 1.6/16.3 MB 8.4 MB/s eta 0:00:02\n",
      "   ------- -------------------------------- 2.9/16.3 MB 7.3 MB/s eta 0:00:02\n",
      "   ---------- ----------------------------- 4.5/16.3 MB 7.5 MB/s eta 0:00:02\n",
      "   --------------- ------------------------ 6.3/16.3 MB 7.9 MB/s eta 0:00:02\n",
      "   ------------------- -------------------- 8.1/16.3 MB 8.0 MB/s eta 0:00:02\n",
      "   ------------------------ --------------- 10.0/16.3 MB 8.2 MB/s eta 0:00:01\n",
      "   ---------------------------- ----------- 11.5/16.3 MB 8.1 MB/s eta 0:00:01\n",
      "   -------------------------------- ------- 13.4/16.3 MB 8.1 MB/s eta 0:00:01\n",
      "   ------------------------------------ --- 14.7/16.3 MB 8.0 MB/s eta 0:00:01\n",
      "   ---------------------------------------  16.3/16.3 MB 7.9 MB/s eta 0:00:01\n",
      "   ---------------------------------------- 16.3/16.3 MB 7.7 MB/s eta 0:00:00\n",
      "Downloading pytz-2024.1-py2.py3-none-any.whl (505 kB)\n",
      "Downloading tzdata-2024.1-py2.py3-none-any.whl (345 kB)\n",
      "Installing collected packages: pytz, tzdata, numpy, pandas\n",
      "Successfully installed numpy-2.0.1 pandas-2.2.2 pytz-2024.1 tzdata-2024.1\n"
     ]
    }
   ],
   "source": [
    "pip install pandas\n"
   ]
  },
  {
   "cell_type": "code",
   "execution_count": 2,
   "metadata": {},
   "outputs": [
    {
     "name": "stdout",
     "output_type": "stream",
     "text": [
      "hola mundo\n"
     ]
    }
   ],
   "source": [
    "print ('hola mundo')\n"
   ]
  },
  {
   "cell_type": "markdown",
   "metadata": {},
   "source": [
    "# OPERACIONES BÁSICAS"
   ]
  },
  {
   "cell_type": "code",
   "execution_count": 9,
   "metadata": {},
   "outputs": [
    {
     "name": "stdout",
     "output_type": "stream",
     "text": [
      "valor 5+5\n",
      " El valor es de: 14.0\n",
      "10\n"
     ]
    }
   ],
   "source": [
    "5+5   #Una suma\n",
    "print('valor 5+5')\n",
    "print(f' El valor es de: {5*(2.5+3.1)/2}') #Una forma de mostrar en pantalla\n",
    "# una operación matemática.\n",
    "x=5*2\n",
    "print(x)"
   ]
  },
  {
   "cell_type": "markdown",
   "metadata": {},
   "source": [
    "# OTRAS OPERACIONES"
   ]
  },
  {
   "cell_type": "code",
   "execution_count": 10,
   "metadata": {},
   "outputs": [
    {
     "name": "stdout",
     "output_type": "stream",
     "text": [
      "8.0\n"
     ]
    }
   ],
   "source": [
    "2**3\n",
    "b=(2**3+4**2)/3\n",
    "print(b)\n"
   ]
  }
 ],
 "metadata": {
  "kernelspec": {
   "display_name": "Python 3",
   "language": "python",
   "name": "python3"
  },
  "language_info": {
   "codemirror_mode": {
    "name": "ipython",
    "version": 3
   },
   "file_extension": ".py",
   "mimetype": "text/x-python",
   "name": "python",
   "nbconvert_exporter": "python",
   "pygments_lexer": "ipython3",
   "version": "3.12.5"
  }
 },
 "nbformat": 4,
 "nbformat_minor": 2
}
